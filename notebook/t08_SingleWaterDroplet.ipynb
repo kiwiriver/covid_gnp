{
 "cells": [
  {
   "cell_type": "markdown",
   "metadata": {},
   "source": [
    "# Scattering of water droplet"
   ]
  },
  {
   "cell_type": "code",
   "execution_count": 1,
   "metadata": {},
   "outputs": [],
   "source": [
    "import pickle\n",
    "import pandas as pd\n",
    "import numpy as np\n",
    "import matplotlib.pyplot as plt\n",
    "import matplotlib\n",
    "%matplotlib inline"
   ]
  },
  {
   "cell_type": "code",
   "execution_count": 34,
   "metadata": {},
   "outputs": [
    {
     "data": {
      "text/plain": [
       "{'Qext': 1.693237598485073,\n",
       " 'Qsca': 0.4725443528128364,\n",
       " 'Qabs': 1.2206932456722366,\n",
       " 'g': 0.3153569918620273,\n",
       " 'Qpr': 1.5442174328606284,\n",
       " 'Qback': 0.25575930719896567,\n",
       " 'Qratio': 0.5412387338385268}"
      ]
     },
     "execution_count": 34,
     "metadata": {},
     "output_type": "execute_result"
    }
   ],
   "source": [
    "import PyMieScatt as ps\n",
    "ps.MieQ(1.5+0.5j,532,200,asDict=True)"
   ]
  },
  {
   "cell_type": "code",
   "execution_count": 35,
   "metadata": {},
   "outputs": [
    {
     "data": {
      "text/plain": [
       "{'Bext': 5799.696165211469,\n",
       " 'Bsca': 2003.4477689477499,\n",
       " 'Babs': 3796.248396263719,\n",
       " 'G': 0.5466232557873613,\n",
       " 'Bpr': 4704.565022949325,\n",
       " 'Bback': 289.2629626361788,\n",
       " 'Bratio': 555.8795550355866}"
      ]
     },
     "execution_count": 35,
     "metadata": {},
     "output_type": "execute_result"
    }
   ],
   "source": [
    "dp = np.linspace(10,1000,1000)\n",
    "N,sh,sc = 1e5,5,200\n",
    "w=[N*((sh/sc)*(d/sc)**(sh-1))*np.exp(-(d/sc)**sh) for d in dp]\n",
    "ps.Mie_SD(1.5+0.5j,405,dp,w,asDict=True)"
   ]
  },
  {
   "cell_type": "code",
   "execution_count": 38,
   "metadata": {},
   "outputs": [
    {
     "data": {
      "text/plain": [
       "[<matplotlib.lines.Line2D at 0x129b0e3d0>]"
      ]
     },
     "execution_count": 38,
     "metadata": {},
     "output_type": "execute_result"
    },
    {
     "data": {
      "image/png": "[encoded data removed]",
      "text/plain": [
       "<Figure size 432x288 with 1 Axes>"
      ]
     },
     "metadata": {
      "needs_background": "light"
     },
     "output_type": "display_data"
    }
   ],
   "source": [
    "plt.plot(dp, w)"
   ]
  },
  {
   "cell_type": "code",
   "execution_count": 41,
   "metadata": {},
   "outputs": [
    {
     "data": {
      "text/plain": [
       "['AutoMieQ',\n",
       " 'AutoMie_ab',\n",
       " 'ContourIntersection',\n",
       " 'ContourIntersection_SD',\n",
       " 'CoreShell',\n",
       " 'CoreShellMatrixElements',\n",
       " 'CoreShellS1S2',\n",
       " 'CoreShellScatteringFunction',\n",
       " 'Inverse',\n",
       " 'Inversion',\n",
       " 'Inversion_SD',\n",
       " 'LowFrequencyMieQ',\n",
       " 'LowFrequencyMie_ab',\n",
       " 'MatrixElements',\n",
       " 'Mie',\n",
       " 'MiePiTau',\n",
       " 'MieQ',\n",
       " 'MieQCoreShell',\n",
       " 'MieQ_withDiameterRange',\n",
       " 'MieQ_withSizeParameterRange',\n",
       " 'MieQ_withWavelengthRange',\n",
       " 'MieS1S2',\n",
       " 'Mie_Lognormal',\n",
       " 'Mie_SD',\n",
       " 'Mie_ab',\n",
       " 'Mie_cd',\n",
       " 'RayleighMieQ',\n",
       " 'SF_SD',\n",
       " 'ScatteringFunction',\n",
       " 'SurveyIteration',\n",
       " 'SurveyIteration_SD',\n",
       " '__builtins__',\n",
       " '__cached__',\n",
       " '__doc__',\n",
       " '__file__',\n",
       " '__loader__',\n",
       " '__name__',\n",
       " '__package__',\n",
       " '__path__',\n",
       " '__spec__',\n",
       " '__version__',\n",
       " '_version',\n",
       " 'fastMieQ',\n",
       " 'fastMie_SD']"
      ]
     },
     "execution_count": 41,
     "metadata": {},
     "output_type": "execute_result"
    }
   ],
   "source": [
    "dir(ps)"
   ]
  },
  {
   "cell_type": "markdown",
   "metadata": {},
   "source": [
    "## load water "
   ]
  },
  {
   "cell_type": "code",
   "execution_count": 2,
   "metadata": {},
   "outputs": [
    {
     "name": "stdout",
     "output_type": "stream",
     "text": [
      "<class 'pandas.core.frame.DataFrame'>\n",
      "Int64Index: 25 entries, 4 to 28\n",
      "Data columns (total 3 columns):\n",
      " #   Column      Non-Null Count  Dtype  \n",
      "---  ------      --------------  -----  \n",
      " 0   Wavelength  25 non-null     float64\n",
      " 1   n           25 non-null     float64\n",
      " 2   k           25 non-null     float64\n",
      "dtypes: float64(3)\n",
      "memory usage: 800.0 bytes\n"
     ]
    }
   ],
   "source": [
    "url = \"https://refractiveindex.info/data_csv.php?datafile=data/main/H2O/Hale.yml\"\n",
    "df1 = pd.read_csv(url)\n",
    "\n",
    "#reorganize data\n",
    "#original data with n and k in the same columne\n",
    "index1=df1.index[df1.n=='k'].tolist()[0]\n",
    "df2=df1[:index1].astype(float)\n",
    "df2['k']=df1[index1+1:].n.values.astype('float')\n",
    "df1=df2\n",
    "\n",
    "#if data are downloaded and stored in local file\n",
    "#df1=pd.read_csv('./Rakic-BB.csv')\n",
    "#df1=df1.drop(columns=['wl.1'])\n",
    "#df1.columns=[\"Wavelength\", \"n\", \"k\"]\n",
    "\n",
    "#change column name and use only wavelength less than 800nm\n",
    "df1.columns=[\"Wavelength\", \"n\", \"k\"]\n",
    "df1.Wavelength=df1.Wavelength*1000\n",
    "df1H2o=df1[(df1['Wavelength']<910) & (df1['Wavelength']>290)]\n",
    "df1H2o.info()"
   ]
  },
  {
   "cell_type": "code",
   "execution_count": 3,
   "metadata": {},
   "outputs": [
    {
     "data": {
      "text/html": [
       "<div>\n",
       "<style scoped>\n",
       "    .dataframe tbody tr th:only-of-type {\n",
       "        vertical-align: middle;\n",
       "    }\n",
       "\n",
       "    .dataframe tbody tr th {\n",
       "        vertical-align: top;\n",
       "    }\n",
       "\n",
       "    .dataframe thead th {\n",
       "        text-align: right;\n",
       "    }\n",
       "</style>\n",
       "<table border=\"1\" class=\"dataframe\">\n",
       "  <thead>\n",
       "    <tr style=\"text-align: right;\">\n",
       "      <th></th>\n",
       "      <th>Wavelength</th>\n",
       "      <th>n</th>\n",
       "      <th>k</th>\n",
       "    </tr>\n",
       "  </thead>\n",
       "  <tbody>\n",
       "    <tr>\n",
       "      <th>4</th>\n",
       "      <td>300.0</td>\n",
       "      <td>1.349</td>\n",
       "      <td>1.600000e-08</td>\n",
       "    </tr>\n",
       "    <tr>\n",
       "      <th>5</th>\n",
       "      <td>325.0</td>\n",
       "      <td>1.346</td>\n",
       "      <td>1.080000e-08</td>\n",
       "    </tr>\n",
       "    <tr>\n",
       "      <th>6</th>\n",
       "      <td>350.0</td>\n",
       "      <td>1.343</td>\n",
       "      <td>6.500000e-09</td>\n",
       "    </tr>\n",
       "    <tr>\n",
       "      <th>7</th>\n",
       "      <td>375.0</td>\n",
       "      <td>1.341</td>\n",
       "      <td>3.500000e-09</td>\n",
       "    </tr>\n",
       "    <tr>\n",
       "      <th>8</th>\n",
       "      <td>400.0</td>\n",
       "      <td>1.339</td>\n",
       "      <td>1.860000e-09</td>\n",
       "    </tr>\n",
       "    <tr>\n",
       "      <th>9</th>\n",
       "      <td>425.0</td>\n",
       "      <td>1.338</td>\n",
       "      <td>1.300000e-09</td>\n",
       "    </tr>\n",
       "    <tr>\n",
       "      <th>10</th>\n",
       "      <td>450.0</td>\n",
       "      <td>1.337</td>\n",
       "      <td>1.020000e-09</td>\n",
       "    </tr>\n",
       "    <tr>\n",
       "      <th>11</th>\n",
       "      <td>475.0</td>\n",
       "      <td>1.336</td>\n",
       "      <td>9.350000e-10</td>\n",
       "    </tr>\n",
       "    <tr>\n",
       "      <th>12</th>\n",
       "      <td>500.0</td>\n",
       "      <td>1.335</td>\n",
       "      <td>1.000000e-09</td>\n",
       "    </tr>\n",
       "    <tr>\n",
       "      <th>13</th>\n",
       "      <td>525.0</td>\n",
       "      <td>1.334</td>\n",
       "      <td>1.320000e-09</td>\n",
       "    </tr>\n",
       "    <tr>\n",
       "      <th>14</th>\n",
       "      <td>550.0</td>\n",
       "      <td>1.333</td>\n",
       "      <td>1.960000e-09</td>\n",
       "    </tr>\n",
       "    <tr>\n",
       "      <th>15</th>\n",
       "      <td>575.0</td>\n",
       "      <td>1.333</td>\n",
       "      <td>3.600000e-09</td>\n",
       "    </tr>\n",
       "    <tr>\n",
       "      <th>16</th>\n",
       "      <td>600.0</td>\n",
       "      <td>1.332</td>\n",
       "      <td>1.090000e-08</td>\n",
       "    </tr>\n",
       "    <tr>\n",
       "      <th>17</th>\n",
       "      <td>625.0</td>\n",
       "      <td>1.332</td>\n",
       "      <td>1.390000e-08</td>\n",
       "    </tr>\n",
       "    <tr>\n",
       "      <th>18</th>\n",
       "      <td>650.0</td>\n",
       "      <td>1.331</td>\n",
       "      <td>1.640000e-08</td>\n",
       "    </tr>\n",
       "    <tr>\n",
       "      <th>19</th>\n",
       "      <td>675.0</td>\n",
       "      <td>1.331</td>\n",
       "      <td>2.230000e-08</td>\n",
       "    </tr>\n",
       "    <tr>\n",
       "      <th>20</th>\n",
       "      <td>700.0</td>\n",
       "      <td>1.331</td>\n",
       "      <td>3.350000e-08</td>\n",
       "    </tr>\n",
       "    <tr>\n",
       "      <th>21</th>\n",
       "      <td>725.0</td>\n",
       "      <td>1.330</td>\n",
       "      <td>9.150000e-08</td>\n",
       "    </tr>\n",
       "    <tr>\n",
       "      <th>22</th>\n",
       "      <td>750.0</td>\n",
       "      <td>1.330</td>\n",
       "      <td>1.560000e-07</td>\n",
       "    </tr>\n",
       "    <tr>\n",
       "      <th>23</th>\n",
       "      <td>775.0</td>\n",
       "      <td>1.330</td>\n",
       "      <td>1.480000e-07</td>\n",
       "    </tr>\n",
       "    <tr>\n",
       "      <th>24</th>\n",
       "      <td>800.0</td>\n",
       "      <td>1.329</td>\n",
       "      <td>1.250000e-07</td>\n",
       "    </tr>\n",
       "    <tr>\n",
       "      <th>25</th>\n",
       "      <td>825.0</td>\n",
       "      <td>1.329</td>\n",
       "      <td>1.820000e-07</td>\n",
       "    </tr>\n",
       "    <tr>\n",
       "      <th>26</th>\n",
       "      <td>850.0</td>\n",
       "      <td>1.329</td>\n",
       "      <td>2.930000e-07</td>\n",
       "    </tr>\n",
       "    <tr>\n",
       "      <th>27</th>\n",
       "      <td>875.0</td>\n",
       "      <td>1.328</td>\n",
       "      <td>3.910000e-07</td>\n",
       "    </tr>\n",
       "    <tr>\n",
       "      <th>28</th>\n",
       "      <td>900.0</td>\n",
       "      <td>1.328</td>\n",
       "      <td>4.860000e-07</td>\n",
       "    </tr>\n",
       "  </tbody>\n",
       "</table>\n",
       "</div>"
      ],
      "text/plain": [
       "    Wavelength      n             k\n",
       "4        300.0  1.349  1.600000e-08\n",
       "5        325.0  1.346  1.080000e-08\n",
       "6        350.0  1.343  6.500000e-09\n",
       "7        375.0  1.341  3.500000e-09\n",
       "8        400.0  1.339  1.860000e-09\n",
       "9        425.0  1.338  1.300000e-09\n",
       "10       450.0  1.337  1.020000e-09\n",
       "11       475.0  1.336  9.350000e-10\n",
       "12       500.0  1.335  1.000000e-09\n",
       "13       525.0  1.334  1.320000e-09\n",
       "14       550.0  1.333  1.960000e-09\n",
       "15       575.0  1.333  3.600000e-09\n",
       "16       600.0  1.332  1.090000e-08\n",
       "17       625.0  1.332  1.390000e-08\n",
       "18       650.0  1.331  1.640000e-08\n",
       "19       675.0  1.331  2.230000e-08\n",
       "20       700.0  1.331  3.350000e-08\n",
       "21       725.0  1.330  9.150000e-08\n",
       "22       750.0  1.330  1.560000e-07\n",
       "23       775.0  1.330  1.480000e-07\n",
       "24       800.0  1.329  1.250000e-07\n",
       "25       825.0  1.329  1.820000e-07\n",
       "26       850.0  1.329  2.930000e-07\n",
       "27       875.0  1.328  3.910000e-07\n",
       "28       900.0  1.328  4.860000e-07"
      ]
     },
     "execution_count": 3,
     "metadata": {},
     "output_type": "execute_result"
    }
   ],
   "source": [
    "df1H2o"
   ]
  },
  {
   "cell_type": "code",
   "execution_count": 4,
   "metadata": {},
   "outputs": [
    {
     "data": {
      "text/plain": [
       "<matplotlib.axes._subplots.AxesSubplot at 0x12516dfd0>"
      ]
     },
     "execution_count": 4,
     "metadata": {},
     "output_type": "execute_result"
    },
    {
     "data": {
      "image/png": "[encoded data removed]",
      "text/plain": [
       "<Figure size 432x288 with 1 Axes>"
      ]
     },
     "metadata": {
      "needs_background": "light"
     },
     "output_type": "display_data"
    }
   ],
   "source": [
    "df1H2o.plot(x='Wavelength', y=['n','k'],logy=False,title='Water')"
   ]
  },
  {
   "cell_type": "markdown",
   "metadata": {},
   "source": [
    "We can neglect the water absorption"
   ]
  },
  {
   "cell_type": "code",
   "execution_count": 5,
   "metadata": {},
   "outputs": [
    {
     "data": {
      "text/plain": [
       "Wavelength    8.000000e+02\n",
       "n             1.329000e+00\n",
       "k             1.250000e-07\n",
       "Name: 24, dtype: float64"
      ]
     },
     "execution_count": 5,
     "metadata": {},
     "output_type": "execute_result"
    }
   ],
   "source": [
    "#find the water absorption at 800nm\n",
    "df1H2o.iloc[20] #1.329"
   ]
  },
  {
   "cell_type": "code",
   "execution_count": 6,
   "metadata": {},
   "outputs": [],
   "source": [
    "wv=0.8 #um\n",
    "nw=1.329,\n",
    "kw=1.250000e-07\n",
    "\n",
    "nv=np.array([nw])\n",
    "kv=np.array([kw])\n",
    "wv=np.array([wv])"
   ]
  },
  {
   "cell_type": "markdown",
   "metadata": {},
   "source": [
    "## Compute scattering results"
   ]
  },
  {
   "cell_type": "code",
   "execution_count": 7,
   "metadata": {},
   "outputs": [],
   "source": [
    "import PyMieScatt as ps\n",
    "def run_mie(nv, kv, wv, dv):\n",
    "    nd=len(dv)\n",
    "    nwv=len(wv)\n",
    "    \n",
    "    #run the mie code for above parameters\n",
    "    miev=np.array([[ps.MieQ(nv[i]+kv[i]*1.0j,wv[i],dv[j],asDict=True) \\\n",
    "                    for j in range(nd)] \\\n",
    "                   for i in range(nwv)])\n",
    "\n",
    "    qextv=np.array([[miev[i,j]['Qext'] for j in range(nd)]for i in range(nwv)])\n",
    "    qscav=np.array([[miev[i,j]['Qsca'] for j in range(nd)]for i in range(nwv)])\n",
    "    qabsv=np.array([[miev[i,j]['Qabs'] for j in range(nd)]for i in range(nwv)])\n",
    "    qbackv=np.array([[miev[i,j]['Qback'] for j in range(nd)]for i in range(nwv)])\n",
    "    gv=np.array([[miev[i,j]['g'] for j in range(nd)]for i in range(nwv)])\n",
    "\n",
    "    return [qextv,qscav,qscav/qextv,qabsv, qbackv,gv]\n",
    "\n",
    "    \n",
    "def plot_q(fig, datav, ylabelv, wv, dv,labelv='',linetype='-',yscale='linear'):\n",
    "\n",
    "\n",
    "    nd=len(dv)\n",
    "    nwv=len(wv)\n",
    "    num_plots=len(dv)\n",
    "\n",
    "    colormap = plt.cm.gist_ncar\n",
    "\n",
    "    for i in range(6):\n",
    "        ax=plt.subplot(2,3,i+1)\n",
    "        plt.gca().set_prop_cycle(plt.cycler('color', plt.cm.jet(np.linspace(0, 1, num_plots))))\n",
    "\n",
    "        ax.set_yscale(yscale)\n",
    "        for j in range(nd):\n",
    "            tmp=plt.plot(wv,datav[i][:,j], linetype, label=labelv)\n",
    "\n",
    "        plt.xlabel(\"Wavelength(nm)\")\n",
    "        plt.ylabel(ylabelv[i])\n",
    "        if(i==5):\n",
    "            plt.legend(bbox_to_anchor=(1.3,1.2),title=\"Medium\")\n",
    "    plt.tight_layout()"
   ]
  },
  {
   "cell_type": "code",
   "execution_count": 8,
   "metadata": {},
   "outputs": [],
   "source": [
    "dv=range(10,100,5)\n",
    "\n",
    "ylabelv=[\"$Q_{ext}$\",\"$Q_{sca}$\",\"$SSA$\",\"$Q_{abs}$\",\"$Q_{back}$\",\"Asymmetry factor\"]\n",
    "\n",
    "datav1=run_mie(nv, kv, wv, dv)"
   ]
  },
  {
   "cell_type": "code",
   "execution_count": 9,
   "metadata": {},
   "outputs": [
    {
     "data": {
      "text/plain": [
       "array([[2.02138593, 2.03543067, 1.98423392, 2.02331555, 2.00464664,\n",
       "        2.05949231, 2.06666689, 2.0714017 , 2.0767594 , 2.07236406,\n",
       "        2.08684474, 2.0777699 , 2.07733929, 2.07007297, 2.05720645,\n",
       "        2.04725431, 2.03680529, 2.03147584]])"
      ]
     },
     "execution_count": 9,
     "metadata": {},
     "output_type": "execute_result"
    }
   ],
   "source": [
    "datav1[0]"
   ]
  },
  {
   "cell_type": "code",
   "execution_count": 10,
   "metadata": {},
   "outputs": [
    {
     "data": {
      "text/plain": [
       "Text(0.5, 1.0, 'Wavelength:0.80 um')"
      ]
     },
     "execution_count": 10,
     "metadata": {},
     "output_type": "execute_result"
    },
    {
     "data": {
      "image/png": "[encoded data removed]",
      "text/plain": [
       "<Figure size 432x288 with 1 Axes>"
      ]
     },
     "metadata": {
      "needs_background": "light"
     },
     "output_type": "display_data"
    }
   ],
   "source": [
    "for i in [0,1]:\n",
    "    plt.plot(dv,datav1[i][0],'.-', label=ylabelv[i])\n",
    "plt.legend()\n",
    "plt.xlabel(\"Diameter(um)\")\n",
    "plt.title(\"Wavelength:%2.2f um\"%wv[0])"
   ]
  },
  {
   "cell_type": "markdown",
   "metadata": {},
   "source": [
    "## Phase function"
   ]
  },
  {
   "cell_type": "markdown",
   "metadata": {},
   "source": [
    "MatrixElements compute phase matrix \n",
    "- S11, S12, S33, S34 as as function of cosine scattering angle\n",
    "- check normalization of the phase matrix\n",
    "- check asymmetry factor \n",
    "\n",
    "S11 is defined in  <a href=\"https://pymiescatt.readthedocs.io/en/latest/forward.html#functions-for-single-particles\"> PyMieScatt document </a> as ![title](https://pymiescatt.readthedocs.io/en/latest/_images/math/0f4940ef35bccebe55f5c36989412735f5ad3e07.png)\n",
    "Not sure how it is normalized yet. We will compuate a normalization factor by the integration of the phase function as this:\n",
    "$\\frac{1}{4\\pi}\\int_{4\\pi} f(\\mu) d \\Omega =\\frac{1}{2} \\int_{-1}^1 f(\\mu) d \\mu = \\frac{1}{2} \\sum_i (f(\\mu_i)+f(\\mu_{i+1})/2 \\times (\\mu_i-\\mu_{i+1})$"
   ]
  },
  {
   "cell_type": "markdown",
   "metadata": {},
   "source": [
    "### compute scattering coefficient and scattering matrix"
   ]
  },
  {
   "cell_type": "code",
   "execution_count": 31,
   "metadata": {},
   "outputs": [
    {
     "name": "stdout",
     "output_type": "stream",
     "text": [
      "(1,)\n"
     ]
    }
   ],
   "source": [
    "d1=40 #um\n",
    "d1=0.1\n",
    "d1=0.17\n",
    "#d1=0.3\n",
    "d1=1\n",
    "angv=np.linspace(0,180,181)\n",
    "mu=np.cos(angv*np.pi/180.0)\n",
    "\n",
    "#Relative refractive index in water\n",
    "qv1=np.array([ps.MieQ((nv[i]+kv[i]*1.0j),wv[i],d1,asDict=True) for i in range(len(wv))])\n",
    "print(qv1.shape)\n",
    "qscav=np.array([qv1[i]['Qsca'] for i in range(len(wv))])"
   ]
  },
  {
   "cell_type": "code",
   "execution_count": 32,
   "metadata": {},
   "outputs": [],
   "source": [
    "wv=np.array([0.55])"
   ]
  },
  {
   "cell_type": "code",
   "execution_count": 33,
   "metadata": {},
   "outputs": [
    {
     "name": "stdout",
     "output_type": "stream",
     "text": [
      "(1, 181, 4)\n"
     ]
    },
    {
     "data": {
      "text/plain": [
       "Text(0, 0.5, 'S11')"
      ]
     },
     "execution_count": 33,
     "metadata": {},
     "output_type": "execute_result"
    },
    {
     "data": {
      "image/png": "[encoded data removed]",
      "text/plain": [
       "<Figure size 432x288 with 1 Axes>"
      ]
     },
     "metadata": {
      "needs_background": "light"
     },
     "output_type": "display_data"
    }
   ],
   "source": [
    "\n",
    "\n",
    "mv1=np.array([[ps.MatrixElements((nv[i]+kv[i]*1.0j),wv[i],d1,mu[j]) for j in range(len(mu))]for i in range(len(wv))])\n",
    "print(mv1.shape)\n",
    "\n",
    "\n",
    "#plot m11\n",
    "ax=plt.subplot(111)\n",
    "#ax.set_yscale('log')\n",
    "plt.plot(angv,mv1[::10,:,0].T)\n",
    "plt.xlabel(\"Wavelength(nm)\")\n",
    "plt.ylabel(\"S11\")\n",
    "#not sure how to normalize"
   ]
  },
  {
   "cell_type": "code",
   "execution_count": null,
   "metadata": {},
   "outputs": [],
   "source": []
  }
 ],
 "metadata": {
  "kernelspec": {
   "display_name": "Python 3",
   "language": "python",
   "name": "python3"
  },
  "language_info": {
   "codemirror_mode": {
    "name": "ipython",
    "version": 3
   },
   "file_extension": ".py",
   "mimetype": "text/x-python",
   "name": "python",
   "nbconvert_exporter": "python",
   "pygments_lexer": "ipython3",
   "version": "3.7.7"
  }
 },
 "nbformat": 4,
 "nbformat_minor": 4
}
