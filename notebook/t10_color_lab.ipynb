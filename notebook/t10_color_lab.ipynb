{
 "cells": [
  {
   "cell_type": "markdown",
   "metadata": {},
   "source": [
    "# Colors of GNP solutions"
   ]
  },
  {
   "cell_type": "markdown",
   "metadata": {},
   "source": [
    "## A collection of Color from GNP solutions\n",
    "### <a https=https://www.sigmaaldrich.com/technical-documents/articles/materials-science/nanomaterials/gold-nanoparticles.html> Gold Nanoparticles: Properties and Applications </a>\n",
    "\n",
    "Smaller size (30nm): Red, Larger size: Blue/Purple\n",
    "\n",
    "![title](https://www.sigmaaldrich.com/content/dam/sigma-aldrich/materials-science/nanomaterials/gold-nanoparticles/figure-1.jpg) Image Source: https://www.sigmaaldrich.com\n",
    "\n",
    "### <a https=https://www.researchgate.net/publication/325864327_Prevention_of_the_Aggregation_of_Nanoparticles_during_the_Synthesis_of_Nanogold-Containing_Silica_Aerogels>Prevention of the Aggregation of Nanoparticles during the Synthesis of Nanogold-Containing Silica Aerogels </a>\n",
    "\n",
    "\"Figure 2. Photographs of the solutions containing 10 nm gold nanoparticles that were stabilized with citrate ions and diluted with an organic solvent (4 days of dilution): (a) in the parafilm-sealed cuvettes, very significant aggregation occurred, turning the solutions from red to grey or violet; (b) in hermetically the sealed sample vials, n-propanol and propylene glycol initiated strong aggregation, and the methanol solution remained unchanged. \"\n",
    "\n",
    "![title](https://www.researchgate.net/publication/325864327/figure/fig1/AS:639458613411858@1529470222755/Photographs-of-the-solutions-containing-10-nm-gold-nanoparticles-that-were-stabilized_W640.jpg) Image Source: www.researchgate.net\n",
    "\n",
    "### <a https=https://www.sciencedirect.com/science/article/pii/S2090123210000056> Gold nanoparticles: Optical properties and implementations in cancer diagnosis and photothermal therapy</a>\n",
    "\n",
    "\"Figure 4. Tunable optical properties of gold nanoshells by changing the shell thickness (A) and gold nanocages by changing the auric acid in the synthetic procedure (B). Top row: TEM; middle row: absorption spectra; bottom row: physical appearance ((A) is reproduced with permission from Ref. [27]. (B) is reproduced with permission from Ref. [12]).\"\n",
    "![title](https://ars.els-cdn.com/content/image/1-s2.0-S2090123210000056-gr4.jpg) Image Source:https://ars.els-cdn.com\n",
    "\n",
    "\n",
    "### <a https=https://www.researchgate.net/publication/326461798_Gold_Nanoparticles_Synthesis_and_application_for_Halal_Authentication_in_Meat_and_Meat_Products>Gold Nanoparticles: Synthesis and application for Halal Authentication in Meat and Meat Products</a>\n",
    "\n",
    "![title](https://www.researchgate.net/profile/Deni_Subara/publication/326461798/figure/fig1/AS:684526015635456@1540215128292/TEM-image-of-different-sizes-of-AuNPs-at-10-nm-a-20-nm-b-30-nm-c-40-nm-d-50_W640.jpg) Image Souce: https://www.researchgate.net/\n",
    "\n",
    "The extinction is used to compute <a https=https://pubs.acs.org/doi/10.1021/ac0702084> \"absorption\" </a>:\n",
    "$A=\\pi R^2 Q_{ext} d_0 N/2.303 $ where the number density of particles per unit volume N and the path length of the spectrometer (d0), which is usually 1 cm.\n",
    "\n",
    "![title](https://www.researchgate.net/profile/Deni_Subara/publication/326461798/figure/fig2/AS:684526015627265@1540215128377/Colors-of-gold-nanoparticles-at-different-particle-sizes-Figure-reprinted-with_W640.jpg) Image Source:https://www.researchgate.net/\n",
    "\n",
    "![title](https://ninithi.files.wordpress.com/2015/07/shape.jpg) Image Source: https://ninithi.wordpress.com/metallic-nanoparticles/\n",
    "\n",
    "![title](https://sustainablenano.files.wordpress.com/2019/11/aunps-stephmitchell.jpg?w=810&h=580&crop=1) Image Source: http://sustainable-nano.com/2019/11/12/gold-nanoparticles-color/"
   ]
  },
  {
   "cell_type": "code",
   "execution_count": null,
   "metadata": {},
   "outputs": [],
   "source": []
  }
 ],
 "metadata": {
  "kernelspec": {
   "display_name": "Python 3",
   "language": "python",
   "name": "python3"
  },
  "language_info": {
   "codemirror_mode": {
    "name": "ipython",
    "version": 3
   },
   "file_extension": ".py",
   "mimetype": "text/x-python",
   "name": "python",
   "nbconvert_exporter": "python",
   "pygments_lexer": "ipython3",
   "version": "3.6.8"
  }
 },
 "nbformat": 4,
 "nbformat_minor": 4
}
