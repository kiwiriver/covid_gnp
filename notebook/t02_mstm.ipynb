{
 "cells": [
  {
   "cell_type": "markdown",
   "metadata": {},
   "source": [
    "# Scattering by two spheres"
   ]
  },
  {
   "cell_type": "markdown",
   "metadata": {},
   "source": [
    "## Multiple Sphere T Matrix (MSTM) \n",
    "\n",
    "- <a href=\"http://www.eng.auburn.edu/~dmckwski/scatcodes/\">MSTM v3.0 Download</a>\n",
    "- Compile MSTM by fortran compiler\n",
    "- Run MSTM: $mstm mstm-01.inp"
   ]
  },
  {
   "cell_type": "markdown",
   "metadata": {},
   "source": [
    "### MMSTM input file \n",
    "- All length are defined in terms of <a href=\"http://glossary.ametsoc.org/wiki/Size_parameter\">size paratmer</a>: $\\alpha = \\pi d/\\lambda$, where d is the diameter of the particle, and $\\lambda$ is the wavelength of the incident radiation. MSTM define size parameter as $x=ka = 2\\pi a/\\lambda$ where a is the particle radius. Therefore it is the same as using diameter. \n",
    "\n",
    "- sphere_position_file: if the file is empty, then positons will be defined in the input file by sphere_sizes_and_positions:\n",
    "radius, x, y, z, real, imag\n",
    "\n",
    "- length_scale_factor: $2 \\pi/\\lambda$,\n",
    "multiple above radius, x, y, z\n",
    "- real_ref_index_scale_factor\n",
    "multiple above real refractive index\n",
    "- imag_ref_index_scale_factor\n",
    "multiple above imaginary refractive index\n",
    "\n",
    "- fixed_or_random_orientation: 0: fixed, 1: random\n",
    "- medium_real_ref_index: 1.0\n",
    "- medium_imag_ref_index: 0.0\n",
    "- mie_epsilon\n",
    "- target_euler_angles_deg: 0.0d0,0.0d0,0.0d0\n",
    "- incident_azimuth_angle_deg: 0.d0\n",
    "- incident_polar_angle_deg: 0.0d0\n",
    "- t_matrix_file: File name for the file to which the T matrix is read (option 0), written (option 1), or read and appended (2).\n",
    "- output_file: File name for file to which final calculation results are written;"
   ]
  },
  {
   "cell_type": "markdown",
   "metadata": {},
   "source": [
    "### MMSTM input length scale \n",
    "\n",
    "There is confusion when comparing PyMieScatt results and MSTM. Since PyMieScatt ask for diameter and MSTM asks for radius. However, the scale factor for MSTM is $2 \\pi /\\lambda$. Therefore the radius value in MSTM will produce the same size paramter $2 \\pi r/\\lambda= \\pi d /\\lambda$. Simply speaking, just use the size parameter for the sphere to define sphere radius in MSTM. "
   ]
  },
  {
   "cell_type": "markdown",
   "metadata": {},
   "source": [
    "### Create input files for MSTM"
   ]
  },
  {
   "cell_type": "code",
   "execution_count": 5,
   "metadata": {},
   "outputs": [
    {
     "data": {
      "text/plain": [
       "(50, 6)"
      ]
     },
     "execution_count": 5,
     "metadata": {},
     "output_type": "execute_result"
    }
   ],
   "source": [
    "import pickle\n",
    "#read data of wavelength, n, k, x1, xn, xd\n",
    "nkd=pickle.load(open(\"gold_nk.pkl\", \"rb\" ))\n",
    "nkd.shape"
   ]
  },
  {
   "cell_type": "code",
   "execution_count": 88,
   "metadata": {},
   "outputs": [
    {
     "name": "stdout",
     "output_type": "stream",
     "text": [
      "Overwriting ../data/base1p.inp\n"
     ]
    }
   ],
   "source": [
    "%%writefile \"../data/base1p.inp\" \n",
    "base file"
   ]
  },
  {
   "cell_type": "code",
   "execution_count": 17,
   "metadata": {},
   "outputs": [],
   "source": [
    "import shutil\n",
    "#base file will the created with basic paratmers for MSTM\n",
    "src_file='base1p.inp'\n",
    "\n",
    "#add parameters for refractive index and size\n",
    "for iwv in range(len(nkd)):\n",
    "    #print(iwv, nkd[iwv,0], nkd[iwv,1])\n",
    "\n",
    "    new_file='test'+str(iwv)+'.inp'\n",
    "    #print(\"copy to new file:\", new_file)\n",
    "    shutil.copy(src_file,new_file)\n",
    "\n",
    "    f1 = open(new_file, 'a')\n",
    "    f1.write(\"output_file\\n\")\n",
    "    f1.write(\"gold_out\"+str(iwv)+\".dat\\n\")\n",
    "    f1.write(\"real_ref_index_scale_factor\\n\")\n",
    "    f1.write(\"%5.5f\\n\"% nkd[iwv,1])\n",
    "    f1.write(\"imag_ref_index_scale_factor\\n\")\n",
    "    f1.write(\"%5.5f\\n\"% nkd[iwv,2])\n",
    "    f1.write(\"multiple_run\\n\")\n",
    "    f1.write(\"length_scale_factor\\n\")\n",
    "    f1.write(\"%5.5f, %5.5f, %5.5f \\n\"% (nkd[iwv,3],nkd[iwv,4],nkd[iwv,5]))\n",
    "    f1.write('end_of_options')\n",
    "    f1.close()"
   ]
  },
  {
   "cell_type": "markdown",
   "metadata": {},
   "source": [
    "## Analyze MSTM Results"
   ]
  },
  {
   "cell_type": "code",
   "execution_count": 22,
   "metadata": {},
   "outputs": [],
   "source": [
    "import pandas as pd\n",
    "pd1=pd.read_csv(\"../data/base1p.summary\",delim_whitespace=True)\n",
    "pd1=pd1[pd1.sphere=='1'].astype('float')"
   ]
  },
  {
   "cell_type": "code",
   "execution_count": 57,
   "metadata": {},
   "outputs": [
    {
     "name": "stdout",
     "output_type": "stream",
     "text": [
      "<class 'pandas.core.frame.DataFrame'>\n",
      "Int64Index: 725 entries, 0 to 2123\n",
      "Data columns (total 12 columns):\n",
      " #   Column     Non-Null Count  Dtype  \n",
      "---  ------     --------------  -----  \n",
      " 0   sphere     725 non-null    float64\n",
      " 1   host       725 non-null    float64\n",
      " 2   ka         725 non-null    float64\n",
      " 3   x-x(host)  725 non-null    float64\n",
      " 4   y-y(host)  725 non-null    float64\n",
      " 5   z-z(host)  725 non-null    float64\n",
      " 6   Re(m)      725 non-null    float64\n",
      " 7   Im(m)      725 non-null    float64\n",
      " 8   Qext       725 non-null    float64\n",
      " 9   Qsca       725 non-null    float64\n",
      " 10  Qabs       725 non-null    float64\n",
      " 11  Qabs(V)    725 non-null    float64\n",
      "dtypes: float64(12)\n",
      "memory usage: 73.6 KB\n"
     ]
    }
   ],
   "source": [
    "pd1.info()"
   ]
  },
  {
   "cell_type": "code",
   "execution_count": 66,
   "metadata": {},
   "outputs": [
    {
     "data": {
      "text/plain": [
       "0       1.72990\n",
       "3       1.72990\n",
       "6       1.72990\n",
       "9       1.72990\n",
       "12      1.72990\n",
       "         ...   \n",
       "2111    0.18524\n",
       "2114    0.18524\n",
       "2117    0.18524\n",
       "2120    0.18524\n",
       "2123    0.18524\n",
       "Name: Re(m), Length: 725, dtype: float64"
      ]
     },
     "execution_count": 66,
     "metadata": {},
     "output_type": "execute_result"
    }
   ],
   "source": [
    "pd1['Re(m)']"
   ]
  },
  {
   "cell_type": "code",
   "execution_count": 71,
   "metadata": {},
   "outputs": [
    {
     "data": {
      "text/plain": [
       "0       1.72990\n",
       "3       1.72990\n",
       "6       1.72990\n",
       "9       1.72990\n",
       "12      1.72990\n",
       "         ...   \n",
       "2111    0.18524\n",
       "2114    0.18524\n",
       "2117    0.18524\n",
       "2120    0.18524\n",
       "2123    0.18524\n",
       "Name: Re(m), Length: 725, dtype: float64"
      ]
     },
     "execution_count": 71,
     "metadata": {},
     "output_type": "execute_result"
    }
   ],
   "source": [
    "pd1['Re(m)']"
   ]
  },
  {
   "cell_type": "code",
   "execution_count": 86,
   "metadata": {},
   "outputs": [
    {
     "data": {
      "text/plain": [
       "[<matplotlib.lines.Line2D at 0x11cea7190>]"
      ]
     },
     "execution_count": 86,
     "metadata": {},
     "output_type": "execute_result"
    },
    {
     "data": {
      "image/png": "[encoded data removed]",
      "text/plain": [
       "<Figure size 432x288 with 1 Axes>"
      ]
     },
     "metadata": {
      "needs_background": "light"
     },
     "output_type": "display_data"
    }
   ],
   "source": [
    "import matplotlib.pyplot as plt\n",
    "plt.plot(pd1[::15].Qext)"
   ]
  },
  {
   "cell_type": "markdown",
   "metadata": {},
   "source": [
    "## to do "
   ]
  },
  {
   "cell_type": "markdown",
   "metadata": {},
   "source": [
    "- Check data dimension\n",
    "- Compare with Mie results"
   ]
  },
  {
   "cell_type": "code",
   "execution_count": null,
   "metadata": {},
   "outputs": [],
   "source": []
  }
 ],
 "metadata": {
  "kernelspec": {
   "display_name": "Python 3",
   "language": "python",
   "name": "python3"
  },
  "language_info": {
   "codemirror_mode": {
    "name": "ipython",
    "version": 3
   },
   "file_extension": ".py",
   "mimetype": "text/x-python",
   "name": "python",
   "nbconvert_exporter": "python",
   "pygments_lexer": "ipython3",
   "version": "3.7.7"
  }
 },
 "nbformat": 4,
 "nbformat_minor": 4
}
