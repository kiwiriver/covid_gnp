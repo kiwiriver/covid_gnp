{
 "cells": [
  {
   "cell_type": "markdown",
   "metadata": {},
   "source": [
    "## Antigen and Antibody Tests for COVID-19\n",
    "<a https='https://thenativeantigencompany.com/why-we-need-antigen-and-antibody-tests-for-covid-19/'>Why We Need Antigen and Antibody Tests for COVID-19</a>\n",
    "\n",
    "<a https='https://www.assaygenie.com/rapid-covid19-antibody-detection-tests-principles-and-methods'> Rapid COVID-19 Antibody Detection Tests: Principles and Methods  </a> (We mostly refer to this article)\n"
   ]
  },
  {
   "cell_type": "markdown",
   "metadata": {},
   "source": [
    "## Terminology"
   ]
  },
  {
   "cell_type": "markdown",
   "metadata": {},
   "source": [
    "<a https=https://en.wikipedia.org/wiki/Pathogen> Pathogen (defined in wikipedia) </a> : In biology, a pathogen in the oldest and broadest sense, is anything that can produce disease. A pathogen may also be referred to as an infectious agent, or simply a germ. Typically, the term is used to describe an infectious microorganism or agent, such as a virus, bacterium, protozoan, prion, viroid, or fungus.\n",
    "\n",
    "<a https=https://en.wikipedia.org/wiki/Antigen> Antigen (defined in wikipedia) </a>: In immunology, an antigen (Ag) is a molecule or molecular structure, such as may be present at the outside of a pathogen, that can be bound to by an antigen-specific antibody (Ab) or B cell antigen receptor (BCR). The presence of antigens in the body normally triggers an immune response.\n",
    "\n",
    "<a https=https://en.wikipedia.org/wiki/Antibody> Antibody (defined in wikipedia) </a>:  An antibody (Ab), also known as an immunoglobulin (Ig),is a large, Y-shaped protein produced mainly by plasma cells that is used by the immune system to neutralize pathogens such as pathogenic bacteria and viruses.\n",
    "\n",
    "<a https='https://www.assaygenie.com/rapid-covid19-antibody-detection-tests-principles-and-methods'> IgM </a>  antibodies are the first antibodies to appear in response to a novel antigen.\n",
    "\n",
    "<a https='https://www.assaygenie.com/rapid-covid19-antibody-detection-tests-principles-and-methods'> IgG </a> antibodies are generated later in the course of infection.\n",
    " "
   ]
  },
  {
   "cell_type": "markdown",
   "metadata": {},
   "source": [
    "## Ideas"
   ]
  },
  {
   "cell_type": "markdown",
   "metadata": {},
   "source": [
    "- Antibody are antigen-specific. Therefore when the Covid-19 antigen is presented, only the Covid-19 specific antibody can bound with it. These antibodies can be type IgM and IgG.  In the design of the test kit, there is COVID-19 antigen conjugated to 40 nm gold nanoparticle (AuNP) colloid. The Antigen-AuNP complex can only bound with the antibody which recognize the Covid19 antigen, produced by patient infected by Covid-19. \n",
    "\n",
    "- After the bounding, the combined antibody/antigen/AuNP complexes will flow to the test line. In the test line, there are immobilised antibody that recognises human IgM and IgG (anti-human IgM/IgG antibodies), and therefore sepated the two complexes. \n",
    "\n",
    "- The kit control, rabbit IgG, is prepared at the conjugate pad, which already conjugate to the same gold nanoparticle and travels with the rest of the sample from this step. The control line contains an immobilised antibody that recognises Rabbit IgG, the control antibody."
   ]
  },
  {
   "cell_type": "markdown",
   "metadata": {},
   "source": [
    "## Questions:"
   ]
  },
  {
   "cell_type": "markdown",
   "metadata": {},
   "source": [
    "- Anti-human IgM antibody bound with IgM antibody? Should Anti-human IgM antibody reponse to some kind of antigen?\n",
    "- Refractive index of blood serum, or plasma\n",
    "- Is the color in the test line only contribute from the scattering and absorption of the AuNP?"
   ]
  },
  {
   "cell_type": "markdown",
   "metadata": {},
   "source": [
    "## Test kit components"
   ]
  },
  {
   "cell_type": "markdown",
   "metadata": {},
   "source": [
    "A sample can be positive if there are IgM, IgG, or both IgM and IgG antibodies present.\n",
    "\n",
    "- The conjugation pad contains the COVID-19 antigen conjugated to 40 nm gold nanoparticle (AuNP) colloid (Antigen-AuNP complex)\n",
    "- M line contains an immobilised antibody that recognises human IgM.\n",
    "- G Line contains an immobilised antibody that recognisesHuman IgG\n",
    "- The control line contains an immobilised antibody that recognises Rabbit IgG, the control antibody."
   ]
  },
  {
   "cell_type": "markdown",
   "metadata": {},
   "source": [
    "![title](https://cdn11.bigcommerce.com/s-h68l9z2lnx/images/stencil/608x608/products/6287/7986/Cellex_COVID-19_Rapid_POC_Kit__18502.1588080665.png?c=2')Image Source: <a https='https://www.assaygenie.com/rapid-covid19-antibody-detection-tests-principles-and-methods'>AssayGenie</a>"
   ]
  },
  {
   "cell_type": "markdown",
   "metadata": {},
   "source": [
    "## <a https='https://www.assaygenie.com/rapid-covid19-antibody-detection-tests-principles-and-methods'>COVID-19 Rapid POC CE-IVD Test Principle </a>"
   ]
  },
  {
   "cell_type": "markdown",
   "metadata": {},
   "source": [
    "Text from <a https='https://www.assaygenie.com/rapid-covid19-antibody-detection-tests-principles-and-methods'>AssayGenie</a>\n",
    "\n",
    "This COVID-19 Rapid Point of Contact CE-IVD test consists of two components, an IgG and an IgM. In the IgG component, anti-human IgG coats the G test line region. In the IgM component, anti-human IgM coats the M test line region.\n",
    "\n",
    "**During testing, the specimen reacts with SARS-CoV-2 antigen-coated gold nanoparticles (AuNP) in the conjugation pad of the test cassette. Any antibody in the patient sample that recognises the MK201027 SARS-CoV-2 antigen binds to the Antigen-AuNP complex. The mixture then migrates laterally across the membrane by capillary action/lateral flow.**\n",
    "\n",
    "As these human antibody/antigen/AuNP complexes move across the test lines, they are captured at the anti-human IgM 'M' Line, the anti-human IgG 'G' Line, or both, depending on the antibody contents of the specimen.\n",
    "\n",
    "The sample first reaches the anti-human IgM antibodies which coat the M line. If the specimen contains IgM antibodies to SARS-CoV-2, a coloured line will appear in the M test line region.\n",
    "\n",
    "Next, the sample reaches the anti-human IgG antibodies which coat the G line. If a specimen contains IgG antibodies to SARS-CoV-2, the conjugate-specimen complex reacts with anti-human IgG. A coloured line appears in the G test line region as a result.\n",
    "\n",
    "Only human antibody/SARS-CoV-2 Antigen/AuNP complexes will produce a visible red or pink line at the M or G Line. Other antibodies produce no colour.\n",
    "\n",
    "The rabbit IgG-AuNP complexes are captured by the control line (which contains anti-rabbit-IgG). This visible line indicates that there has been successful lateral flow across the detection strip. It is last to ensure that the sample had sufficient volume to move across the entirety of the test cassette.\n",
    "\n",
    "Excess antigen-AuNP complexes will not be captured by the M or G lines. If no anti-MK201027 antibodies are present in a patient sample, no Ag-AuNP complex will be captured at the M or G Lines, and thus no coloured line will appear.\n",
    "\n",
    "To summarise, if the specimen contains SARS-CoV-2 IgG antibodies, a coloured line will appear in IgG test line region. If the specimen contains SARS-CoV-2 IgM antibodies, a coloured line will appear in IgM test line region. If the specimen does not contain SARS-CoV-2 antibodies, no coloured line will appear in either of the test line regions, indicating a negative result. In all cases, a coloured line should appear at the control, C line.\n"
   ]
  },
  {
   "cell_type": "code",
   "execution_count": null,
   "metadata": {},
   "outputs": [],
   "source": []
  },
  {
   "cell_type": "markdown",
   "metadata": {},
   "source": [
    "![title](https://i.shgcdn.com/3e639efd-2934-4893-aafb-4cc40ffcb734/-/format/auto/-/preview/3000x3000/-/quality/lighter/) Image Source: <a https='https://www.assaygenie.com/rapid-covid19-antibody-detection-tests-principles-and-methods'>AssayGenie</a>"
   ]
  },
  {
   "cell_type": "markdown",
   "metadata": {},
   "source": [
    "![title](https://i.shgcdn.com/cf678258-7a92-470e-8b49-f24e5c639235/-/format/auto/-/preview/3000x3000/-/quality/lighter/) Image Source: <a https='https://www.assaygenie.com/rapid-covid19-antibody-detection-tests-principles-and-methods'>AssayGenie</a>"
   ]
  },
  {
   "cell_type": "markdown",
   "metadata": {},
   "source": [
    "### Summary from <a https='https://www.assaygenie.com/rapid-covid19-antibody-detection-tests-principles-and-methods'>AssayGenie</a>"
   ]
  },
  {
   "cell_type": "markdown",
   "metadata": {},
   "source": [
    "Steps:\n",
    "\n",
    "1. Add the whole blood, serum, or plasma clinical specimen to the well.\n",
    "\n",
    "2. The combined sample flows down to the sample pad.\n",
    "\n",
    "3. Capillary action/lateral flow will move the sample across the test.\n",
    "\n",
    "4. The sample will hit the conjugation pad.  During this stage, any antibodies in the sample with specificity for COVID-19 will bind the antigen and its conjugated gold nanoparticle. (The kit control, rabbit IgG, is conjugated to the same gold nanoparticle and travels with the rest of the sample from this step.)\n",
    "\n",
    "5. Next, the sample/conjugate complex moves to the nitrocellulose membrane. Here, it comes in contact with the three test lines: IgG, IgM and control.\n",
    "\n",
    "6. First is the M line, which contains an immobilised antibody that recognises human IgM. Any IgM antibodies will bind here. However, only human IgM antibody/COVID-19 antigen/gold nanoparticle complexes will produce a visible coloured line.\n",
    "\n",
    "7. Second is the G Line, which contains an immobilised antibody that recognises Human IgG. All IgG antibodies will bind here. However, only human IgG antibody/COVID-19 antigen/gold nanoparticle complexes will produce a visible coloured line.\n",
    "\n",
    "8. The control line is the last line the sample will encounter. The control line contains an immobilised antibody that recognises Rabbit IgG, the control antibody. To serve as a procedural control, a coloured line should always appear in the control line region, indicating that the proper volume of specimen has been added and membrane wicking has occurred.\n",
    "\n",
    "9. Finally, any excess will flow through to the absorption pad.\n",
    "\n",
    "10. After 10 minutes, the results of the test can be read.\n",
    "\n"
   ]
  },
  {
   "cell_type": "code",
   "execution_count": null,
   "metadata": {},
   "outputs": [],
   "source": []
  }
 ],
 "metadata": {
  "kernelspec": {
   "display_name": "Python 3",
   "language": "python",
   "name": "python3"
  },
  "language_info": {
   "codemirror_mode": {
    "name": "ipython",
    "version": 3
   },
   "file_extension": ".py",
   "mimetype": "text/x-python",
   "name": "python",
   "nbconvert_exporter": "python",
   "pygments_lexer": "ipython3",
   "version": "3.7.7"
  }
 },
 "nbformat": 4,
 "nbformat_minor": 4
}
